{
 "cells": [
  {
   "cell_type": "code",
   "execution_count": 41,
   "id": "7458247f",
   "metadata": {},
   "outputs": [],
   "source": [
    "from string import ascii_letters\n",
    "\n",
    "class Rucksack(object):\n",
    "    def __init__(self, items):\n",
    "        # Split the items into the two identical compartments\n",
    "        self.compartment1: list = items[:int(len(items)/2)]\n",
    "        self.compartment2: list = items[int(len(items)/2):]\n",
    "        self.score: int = 0\n",
    "        \n",
    "    def find_same_items(self, debug: bool = False) -> int:\n",
    "        # using set insted of list to avoid duplicates\n",
    "        identical_items = {item for item in self.compartment1 if item in self.compartment2}\n",
    "        self.score = sum([ascii_letters.index(item) + 1 for item in identical_items])\n",
    "        if debug:\n",
    "            print(self.__str__())\n",
    "            print(identical_items)\n",
    "            print(self.score)\n",
    "        return self.score\n",
    "\n",
    "    def __str__(self):\n",
    "        return f\"Compartment 1 {self.compartment1}\\tCompartment 2 {self.compartment2}\"\n",
    "\n",
    "\n",
    "def get_rucksacks(filename: str) -> dict:\n",
    "    # Getting a list of rounds played and saving them as a list of lists\n",
    "    file_ = open(filename, 'r')\n",
    "    all_lines = file_.readlines()\n",
    "    \n",
    "    all_rucksacks : list = list()\n",
    "    for line in all_lines:\n",
    "        if line.strip():   # ignore the line if it is empty\n",
    "            line = line.strip()\n",
    "            all_rucksacks.append(Rucksack(line))\n",
    "\n",
    "    return all_rucksacks\n",
    "\n",
    "def calculate_priorities(all_rucksacks: list, debug: bool = False) -> int:\n",
    "    total_sum: int = 0\n",
    "    \n",
    "    for rucksack in all_rucksacks:\n",
    "        total_sum += rucksack.find_same_items(debug=False)\n",
    "        \n",
    "    if debug:\n",
    "        print(f\"The total sum is {total_sum}\")\n",
    "        \n",
    "    return total_sum"
   ]
  },
  {
   "cell_type": "code",
   "execution_count": 43,
   "id": "30a68243",
   "metadata": {},
   "outputs": [
    {
     "name": "stdout",
     "output_type": "stream",
     "text": [
      "The sum of all priorities is 7903.\n"
     ]
    }
   ],
   "source": [
    "if __name__ == \"__main__\":\n",
    "    all_rucksacks = get_rucksacks(filename=\"day3_puzzle.txt\")\n",
    "    total_sum = calculate_priorities(all_rucksacks)\n",
    "    print(f\"The sum of all priorities is {total_sum}.\")"
   ]
  },
  {
   "cell_type": "code",
   "execution_count": null,
   "id": "09b3e8c9",
   "metadata": {},
   "outputs": [],
   "source": []
  }
 ],
 "metadata": {
  "kernelspec": {
   "display_name": "Python 3 (ipykernel)",
   "language": "python",
   "name": "python3"
  },
  "language_info": {
   "codemirror_mode": {
    "name": "ipython",
    "version": 3
   },
   "file_extension": ".py",
   "mimetype": "text/x-python",
   "name": "python",
   "nbconvert_exporter": "python",
   "pygments_lexer": "ipython3",
   "version": "3.10.6"
  }
 },
 "nbformat": 4,
 "nbformat_minor": 5
}
