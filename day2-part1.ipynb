{
 "cells": [
  {
   "cell_type": "code",
   "execution_count": 2,
   "id": "63b56e43",
   "metadata": {},
   "outputs": [],
   "source": [
    "# First column if the first play, second is the response; shape score is last\n",
    "# A, X - Rock : 1\n",
    "# B, Y - Paper : 2\n",
    "# C, Z - Scissors : 3\n",
    "# outcome score: lose - 0, draw - 3, win - 6\n",
    "# total score = shape score + outcome score"
   ]
  },
  {
   "cell_type": "code",
   "execution_count": 96,
   "id": "07053a58",
   "metadata": {},
   "outputs": [],
   "source": [
    "def get_moves(filename: str) -> dict:\n",
    "    # Getting a list of rounds played and saving them as a list of lists\n",
    "    file_ = open(filename, 'r')\n",
    "    all_lines = file_.readlines()\n",
    "    \n",
    "    all_moves : list = list()\n",
    "    for line in all_lines:\n",
    "        if line.strip():   # ignore the line if it is empty\n",
    "            line = line.strip().split(\" \")\n",
    "            all_moves.append(line.copy())\n",
    "\n",
    "    return all_moves\n",
    "\n",
    "\n",
    "def round(opponent : str, player : str, debug : bool = False) -> int:\n",
    "    \n",
    "    # player_shape, response_shape = response_shape, player_shape\n",
    "    \n",
    "    winning_moves = {\n",
    "        'X' : 'C',\n",
    "        'Y' : 'A',\n",
    "        'Z' : 'B'\n",
    "    }\n",
    "    mapping = {\n",
    "        'X' : 'A',\n",
    "        'Y' : 'B',\n",
    "        'Z' : 'C'\n",
    "    }\n",
    "    if opponent == winning_moves[player]:\n",
    "        # player wins\n",
    "        if debug:\n",
    "            print(f\"Won 6: {opponent}, {player}\", end=\"   \")\n",
    "        return 6\n",
    "    elif opponent == mapping[player]:\n",
    "        # draw\n",
    "        if debug:\n",
    "            print(f\"Draw 3: {opponent}, {player}\", end=\"   \")\n",
    "        return 3\n",
    "    else:\n",
    "        # losing\n",
    "        if debug:\n",
    "            print(f\"Lost 0: {opponent}, {player}\", end=\"   \")\n",
    "        return 0\n",
    "    \n",
    "    \n",
    "def play_RPS(moves : list) -> int:\n",
    "    shape_scores = {\n",
    "        'X' : 1,\n",
    "        'Y' : 2,\n",
    "        'Z' : 3\n",
    "    }\n",
    "    \n",
    "    total_score : int = 0\n",
    "    for round_move in moves: # TODO: round move could be a class and the move of the player or opponent could be a variable\n",
    "        # round_move : (opponent, player)\n",
    "        total_score += (round(*round_move) + shape_scores[round_move[1]])\n",
    "        \n",
    "    return total_score"
   ]
  },
  {
   "cell_type": "code",
   "execution_count": 97,
   "id": "d5cc9255",
   "metadata": {},
   "outputs": [
    {
     "name": "stdout",
     "output_type": "stream",
     "text": [
      "The total score is 13268.\n"
     ]
    }
   ],
   "source": [
    "from operator import itemgetter\n",
    "\n",
    "if __name__ == \"__main__\":\n",
    "    all_moves = get_moves(filename=\"day2_puzzle.txt\")\n",
    "    total_score = play_RPS(all_moves)\n",
    "    print(f\"The total score is {total_score}.\")\n",
    "\n"
   ]
  },
  {
   "cell_type": "code",
   "execution_count": null,
   "id": "4fa84060",
   "metadata": {},
   "outputs": [],
   "source": []
  }
 ],
 "metadata": {
  "kernelspec": {
   "display_name": "Python 3 (ipykernel)",
   "language": "python",
   "name": "python3"
  },
  "language_info": {
   "codemirror_mode": {
    "name": "ipython",
    "version": 3
   },
   "file_extension": ".py",
   "mimetype": "text/x-python",
   "name": "python",
   "nbconvert_exporter": "python",
   "pygments_lexer": "ipython3",
   "version": "3.10.6"
  }
 },
 "nbformat": 4,
 "nbformat_minor": 5
}
