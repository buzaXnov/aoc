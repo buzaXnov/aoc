{
 "cells": [
  {
   "cell_type": "code",
   "execution_count": 3,
   "id": "e92b317c",
   "metadata": {},
   "outputs": [],
   "source": [
    "# First column; the opponent plays:\n",
    "# A  - Rock : 1\n",
    "# B - Paper : 2\n",
    "# C - Scissors : 3\n",
    "# Second column; you need to:\n",
    "# X - lose\n",
    "# Y - draw\n",
    "# Z - win\n",
    "# outcome score: lose - 0, draw - 3, win - 6\n",
    "# total score = shape score + outcome score"
   ]
  },
  {
   "cell_type": "code",
   "execution_count": 30,
   "id": "376a68b3",
   "metadata": {
    "scrolled": true
   },
   "outputs": [
    {
     "name": "stdout",
     "output_type": "stream",
     "text": [
      "The total score is 15508.\n"
     ]
    }
   ],
   "source": [
    "class Round(object):\n",
    "    def __init__(self, opponent, outcome):\n",
    "        self.opponent: str = opponent\n",
    "        self.outcome: str = outcome\n",
    "        \n",
    "    def determine_move(self):\n",
    "        moves = ['A', 'B', 'C']\n",
    "        # We want the opponent to lose and we are playing after the opponent. \n",
    "        # if opponed played 'C' (scissors), we need to play 'A' (rock) if we want to win.\n",
    "        winning_moves = {\n",
    "            'C' : 'A',\n",
    "            'A' : 'B',\n",
    "            'B' : 'C'\n",
    "        }\n",
    "        # Draw\n",
    "        if self.outcome == 'Y':\n",
    "            return self.opponent\n",
    "        # Win\n",
    "        elif self.outcome == 'Z':\n",
    "            return winning_moves[self.opponent]\n",
    "        # Lose\n",
    "        else:   # The losing move is always the next one. I just made a 'circular' list.\n",
    "            # return moves[(moves.index(self.opponent) + 1) % len(moves)]\n",
    "            return moves[moves.index(self.opponent) - 1]\n",
    "        \n",
    "    def round(self, debug : bool = False) -> int:\n",
    "        winning_moves = {\n",
    "            'A' : 'C',\n",
    "            'B' : 'A',\n",
    "            'C' : 'B'\n",
    "        }\n",
    "        moves = ['A', 'B', 'C']\n",
    "        self.determine_move()\n",
    "        if self.opponent == winning_moves[self.determine_move()]:\n",
    "            # Win\n",
    "            if debug:\n",
    "                print(f\"Won 6: {self.__str__()}\", end=\"   \")\n",
    "            return 6    \n",
    "        elif self.opponent == self.determine_move():\n",
    "            # Draw\n",
    "            if debug:\n",
    "                print(f\"Draw 3: {self.__str__()}\", end=\"   \")\n",
    "            return 3\n",
    "        else:\n",
    "            # Defeat\n",
    "            if debug:\n",
    "                print(f\"Defeat 0: {self.__str__()}\", end=\"   \")\n",
    "            return 0\n",
    "    \n",
    "    def __str__(self):\n",
    "        return f\"{self.opponent} {self.outcome}\"\n",
    "\n",
    "    \n",
    "def play_RPS(moves : list) -> int:\n",
    "    shape_scores = {\n",
    "        'A' : 1,\n",
    "        'B' : 2,\n",
    "        'C' : 3\n",
    "    }\n",
    "    \n",
    "    total_score : int = 0\n",
    "    for round_move in moves: # TODO: round move could be a class and the move of the player or opponent could be a variable\n",
    "        # print(f\"Round: {round_move}\", end=\"   \")\n",
    "        total_score += (round_move.round(debug=False) + shape_scores[round_move.determine_move()])\n",
    "        # print(f\"shape score : {shape_scores[round_move.determine_move()]}\\t determined move is {round_move.determine_move()}\\n\")\n",
    "        \n",
    "    return total_score\n",
    "\n",
    "def get_moves(filename: str) -> dict:\n",
    "    # Getting a list of rounds played and saving them as a list of lists\n",
    "    file_ = open(filename, 'r')\n",
    "    all_lines = file_.readlines()\n",
    "    \n",
    "    all_moves : list = list()\n",
    "    for line in all_lines:\n",
    "        if line.strip():   # ignore the line if it is empty\n",
    "            line = line.strip().split(\" \")\n",
    "            all_moves.append(Round(*line))\n",
    "\n",
    "    return all_moves\n",
    "\n",
    "\n",
    "if __name__ == \"__main__\":\n",
    "    all_moves = get_moves(filename=\"day2_puzzle.txt\")\n",
    "    total_score = play_RPS(all_moves)\n",
    "    print(f\"The total score is {total_score}.\")\n",
    "    "
   ]
  },
  {
   "cell_type": "code",
   "execution_count": null,
   "id": "007db8bc",
   "metadata": {},
   "outputs": [],
   "source": []
  }
 ],
 "metadata": {
  "kernelspec": {
   "display_name": "Python 3 (ipykernel)",
   "language": "python",
   "name": "python3"
  },
  "language_info": {
   "codemirror_mode": {
    "name": "ipython",
    "version": 3
   },
   "file_extension": ".py",
   "mimetype": "text/x-python",
   "name": "python",
   "nbconvert_exporter": "python",
   "pygments_lexer": "ipython3",
   "version": "3.10.6"
  }
 },
 "nbformat": 4,
 "nbformat_minor": 5
}
